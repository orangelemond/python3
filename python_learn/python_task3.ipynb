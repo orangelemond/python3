{
 "cells": [
  {
   "cell_type": "markdown",
   "metadata": {},
   "source": [
    "# 数据类型"
   ]
  },
  {
   "cell_type": "markdown",
   "metadata": {},
   "source": [
    "* 空值:None\n",
    "* 数字:bool,int,long,float,complex\n",
    "* 序列:str,unicode,list,tuple\n",
    "* 字典:dict\n",
    "* 集合:set,frozenset"
   ]
  },
  {
   "cell_type": "markdown",
   "metadata": {},
   "source": [
    "### 字典(dict)"
   ]
  },
  {
   "cell_type": "markdown",
   "metadata": {},
   "source": [
    "* 在 Python 中， **字典** 是用放在花括号 {} 中的一系列的  **键—值** 对。\n",
    "* 每个 **键** 都与一个值相关联，你可以使用键来访问与之相关联的值。与键相关联的值可以是数字、字符串、列表乃至字典。事实上，可将任何 Python 对象用作字典中的值。"
   ]
  },
  {
   "cell_type": "markdown",
   "metadata": {},
   "source": [
    "## 创建使用字典"
   ]
  },
  {
   "cell_type": "code",
   "execution_count": 3,
   "metadata": {},
   "outputs": [],
   "source": [
    "p1={'name':'张三','age':'20','gender':'male'}"
   ]
  },
  {
   "cell_type": "code",
   "execution_count": 4,
   "metadata": {},
   "outputs": [
    {
     "data": {
      "text/plain": [
       "{'name': '张三', 'age': '20', 'gender': 'male'}"
      ]
     },
     "execution_count": 4,
     "metadata": {},
     "output_type": "execute_result"
    }
   ],
   "source": [
    "p1"
   ]
  },
  {
   "cell_type": "code",
   "execution_count": 5,
   "metadata": {},
   "outputs": [
    {
     "data": {
      "text/plain": [
       "'张三'"
      ]
     },
     "execution_count": 5,
     "metadata": {},
     "output_type": "execute_result"
    }
   ],
   "source": [
    "p1['name']\n",
    "# 通过键调用值.键有引号."
   ]
  },
  {
   "cell_type": "code",
   "execution_count": 6,
   "metadata": {},
   "outputs": [
    {
     "data": {
      "text/plain": [
       "'20'"
      ]
     },
     "execution_count": 6,
     "metadata": {},
     "output_type": "execute_result"
    }
   ],
   "source": [
    "p1['age']"
   ]
  },
  {
   "cell_type": "code",
   "execution_count": 7,
   "metadata": {},
   "outputs": [],
   "source": [
    "p2={'name':'张三','gender':'male','age':'20'}"
   ]
  },
  {
   "cell_type": "code",
   "execution_count": 8,
   "metadata": {},
   "outputs": [
    {
     "data": {
      "text/plain": [
       "True"
      ]
     },
     "execution_count": 8,
     "metadata": {},
     "output_type": "execute_result"
    }
   ],
   "source": [
    "p1==p2\n",
    "# 字典中的键值对是没有顺序区别的"
   ]
  },
  {
   "cell_type": "code",
   "execution_count": null,
   "metadata": {},
   "outputs": [],
   "source": [
    "### 添加键值对\n",
    "* 字典是一种动态结构，可随时在其中添加键 — 值对。\n",
    "* 要添加键 — 值对，可依次指定字典名、用方括号括起的键和相关联的值。"
   ]
  },
  {
   "cell_type": "code",
   "execution_count": 11,
   "metadata": {},
   "outputs": [],
   "source": [
    "p1['phone']='13218132432'"
   ]
  },
  {
   "cell_type": "code",
   "execution_count": 12,
   "metadata": {},
   "outputs": [
    {
     "data": {
      "text/plain": [
       "{'name': '张三', 'age': '20', 'gender': 'male', 'phone': '13218132432'}"
      ]
     },
     "execution_count": 12,
     "metadata": {},
     "output_type": "execute_result"
    }
   ],
   "source": [
    "p1"
   ]
  },
  {
   "cell_type": "markdown",
   "metadata": {},
   "source": [
    "### 修改字典中的值\n",
    "* 字典是可被修改的,不但可以增加键值对,还可以修改现有的键值对\n",
    "* 修改方法类似于重新给一个变量赋值,通过给字典名和键赋值的方式修改字典中的值."
   ]
  },
  {
   "cell_type": "code",
   "execution_count": 13,
   "metadata": {},
   "outputs": [],
   "source": [
    "p1['phone']='9999-8888'"
   ]
  },
  {
   "cell_type": "code",
   "execution_count": 14,
   "metadata": {},
   "outputs": [
    {
     "data": {
      "text/plain": [
       "{'name': '张三', 'age': '20', 'gender': 'male', 'phone': '9999-8888'}"
      ]
     },
     "execution_count": 14,
     "metadata": {},
     "output_type": "execute_result"
    }
   ],
   "source": [
    "p1"
   ]
  },
  {
   "cell_type": "markdown",
   "metadata": {},
   "source": [
    "### 删除字典中的键值对\n",
    "* 对于字典中不再需要的信息，可使用 del 语句将相应的键 — 值对彻底删除。使用 del 语句时，必须指定字典名和要删除的键。"
   ]
  },
  {
   "cell_type": "code",
   "execution_count": 15,
   "metadata": {},
   "outputs": [],
   "source": [
    "del p1['phone']"
   ]
  },
  {
   "cell_type": "code",
   "execution_count": 16,
   "metadata": {},
   "outputs": [
    {
     "data": {
      "text/plain": [
       "{'name': '张三', 'age': '20', 'gender': 'male'}"
      ]
     },
     "execution_count": 16,
     "metadata": {},
     "output_type": "execute_result"
    }
   ],
   "source": [
    "p1"
   ]
  },
  {
   "cell_type": "markdown",
   "metadata": {},
   "source": [
    "### 字典中的键必须是唯一的"
   ]
  },
  {
   "cell_type": "code",
   "execution_count": 17,
   "metadata": {},
   "outputs": [],
   "source": [
    "p2={'name':'张三','name':'李四','gender':'male','age':'20'}\n",
    "#相当于是做了修改操作"
   ]
  },
  {
   "cell_type": "code",
   "execution_count": 18,
   "metadata": {},
   "outputs": [
    {
     "data": {
      "text/plain": [
       "{'name': '李四', 'gender': 'male', 'age': '20'}"
      ]
     },
     "execution_count": 18,
     "metadata": {},
     "output_type": "execute_result"
    }
   ],
   "source": [
    "p2"
   ]
  },
  {
   "cell_type": "markdown",
   "metadata": {},
   "source": [
    "#### 遍历字典的方法留待学习循环时"
   ]
  },
  {
   "cell_type": "markdown",
   "metadata": {},
   "source": [
    "# 集合\n",
    "* 集合类似于列表,但每个元素都是唯一的,在这个意义上,集合类似于字典dict的键,但没有值.\n",
    "* 集合的元素除了唯一的特性,还是无序的,类似dict"
   ]
  },
  {
   "cell_type": "markdown",
   "metadata": {},
   "source": [
    "### 创建集合\n",
    "* 要创建集合,需要提供一个列表list,传递给set()"
   ]
  },
  {
   "cell_type": "code",
   "execution_count": 29,
   "metadata": {},
   "outputs": [],
   "source": [
    "s1=set(['1','2','3','4','5'])"
   ]
  },
  {
   "cell_type": "code",
   "execution_count": 30,
   "metadata": {},
   "outputs": [
    {
     "data": {
      "text/plain": [
       "{'1', '2', '3', '4', '5'}"
      ]
     },
     "execution_count": 30,
     "metadata": {},
     "output_type": "execute_result"
    }
   ],
   "source": [
    "s1\n",
    "# 显示的集合,是一个用大括号括起来的一些元素,这和数学中的集合表示方法是一致的."
   ]
  },
  {
   "cell_type": "markdown",
   "metadata": {},
   "source": [
    "## 集合的运算\n",
    "集合之间可以进行交并差等运算."
   ]
  },
  {
   "cell_type": "code",
   "execution_count": 31,
   "metadata": {},
   "outputs": [],
   "source": [
    "s2=set(['3','4','5','6','7'])"
   ]
  },
  {
   "cell_type": "code",
   "execution_count": 32,
   "metadata": {},
   "outputs": [
    {
     "data": {
      "text/plain": [
       "{'3', '4', '5'}"
      ]
     },
     "execution_count": 32,
     "metadata": {},
     "output_type": "execute_result"
    }
   ],
   "source": [
    "s1&s2\n",
    "# 使用&符号取交集"
   ]
  },
  {
   "cell_type": "code",
   "execution_count": 33,
   "metadata": {},
   "outputs": [
    {
     "data": {
      "text/plain": [
       "{'1', '2', '3', '4', '5', '6', '7'}"
      ]
     },
     "execution_count": 33,
     "metadata": {},
     "output_type": "execute_result"
    }
   ],
   "source": [
    "s1|s2\n",
    "# 使用 | 取并集,加号不能取并集"
   ]
  },
  {
   "cell_type": "code",
   "execution_count": 34,
   "metadata": {},
   "outputs": [
    {
     "data": {
      "text/plain": [
       "{'1', '2'}"
      ]
     },
     "execution_count": 34,
     "metadata": {},
     "output_type": "execute_result"
    }
   ],
   "source": [
    "s1-s2\n",
    "# 使用减号做差集"
   ]
  },
  {
   "cell_type": "markdown",
   "metadata": {},
   "source": [
    "### 集合的方法"
   ]
  },
  {
   "cell_type": "markdown",
   "metadata": {},
   "source": [
    "#### add方法用于为集合增加元素"
   ]
  },
  {
   "cell_type": "code",
   "execution_count": 38,
   "metadata": {},
   "outputs": [],
   "source": [
    "s1.add('8')"
   ]
  },
  {
   "cell_type": "code",
   "execution_count": 39,
   "metadata": {},
   "outputs": [
    {
     "data": {
      "text/plain": [
       "{'1', '2', '3', '4', '5', '8'}"
      ]
     },
     "execution_count": 39,
     "metadata": {},
     "output_type": "execute_result"
    }
   ],
   "source": [
    "s1"
   ]
  },
  {
   "cell_type": "markdown",
   "metadata": {},
   "source": [
    "#### clear()方法会将集合清空"
   ]
  },
  {
   "cell_type": "code",
   "execution_count": 40,
   "metadata": {},
   "outputs": [],
   "source": [
    "s1.clear()"
   ]
  },
  {
   "cell_type": "code",
   "execution_count": 41,
   "metadata": {},
   "outputs": [
    {
     "data": {
      "text/plain": [
       "set()"
      ]
     },
     "execution_count": 41,
     "metadata": {},
     "output_type": "execute_result"
    }
   ],
   "source": [
    "s1"
   ]
  },
  {
   "cell_type": "markdown",
   "metadata": {},
   "source": [
    "#### copy()方法用于显式地声明拷贝一个副本"
   ]
  },
  {
   "cell_type": "code",
   "execution_count": 42,
   "metadata": {},
   "outputs": [],
   "source": [
    "s3=s1.copy()"
   ]
  },
  {
   "cell_type": "code",
   "execution_count": 43,
   "metadata": {},
   "outputs": [
    {
     "data": {
      "text/plain": [
       "set()"
      ]
     },
     "execution_count": 43,
     "metadata": {},
     "output_type": "execute_result"
    }
   ],
   "source": [
    "s3"
   ]
  },
  {
   "cell_type": "markdown",
   "metadata": {},
   "source": [
    "#### issubset()方法检测是否是另一个集合的子集"
   ]
  },
  {
   "cell_type": "code",
   "execution_count": 44,
   "metadata": {},
   "outputs": [
    {
     "data": {
      "text/plain": [
       "True"
      ]
     },
     "execution_count": 44,
     "metadata": {},
     "output_type": "execute_result"
    }
   ],
   "source": [
    "s1.issubset(s2)"
   ]
  },
  {
   "cell_type": "markdown",
   "metadata": {},
   "source": [
    "#### 其他关于集合的方法,可以通过s1.+tab补全来查看.对于不了解的方法,可以通过运行s2.difference??来查看其代码"
   ]
  },
  {
   "cell_type": "markdown",
   "metadata": {},
   "source": [
    "# 判断语句(if)\n",
    "* 在 Python 中， if 语句让你能够检查程序的当前状态，并据此采取相应的措施。\n",
    "* if语句用于检查条件:如果条件为真,则运行相应的程序块.\n",
    "* if后接一个条件,如果满足条件则执行条件后的程序块.\n",
    "* 第二个条件由elif引出,是一个可选的选项\n",
    "* else后不需要接条件,表示上边所有条件之外的余集."
   ]
  },
  {
   "cell_type": "code",
   "execution_count": 51,
   "metadata": {},
   "outputs": [
    {
     "name": "stdout",
     "output_type": "stream",
     "text": [
      "请输入一个数字:56\n",
      "太大了.\n",
      "游戏结束!\n"
     ]
    }
   ],
   "source": [
    "# 一个条件的多个情形,使用if elif else\n",
    "number=23\n",
    "guess=int(input('请输入一个数字:'))\n",
    "if guess==number:\n",
    "    print('恭喜你,你猜对了!')\n",
    "elif guess>number:\n",
    "    print('太大了.')\n",
    "#elif guess<number:\n",
    "else:\n",
    "    print('太小了.')\n",
    "print('游戏结束!')"
   ]
  },
  {
   "cell_type": "markdown",
   "metadata": {},
   "source": [
    "* 就像elif不是必须的一样,else也并不是必须的.但else可以把所有没被列出来的条件包含进去,使得程序不会遇到无法处理的例外(尽管可能会发生错误),因此,最好是用else结束判断语句."
   ]
  },
  {
   "cell_type": "code",
   "execution_count": 57,
   "metadata": {},
   "outputs": [
    {
     "name": "stdout",
     "output_type": "stream",
     "text": [
      "请输入一个数字:50\n",
      "太大或太小了.\n",
      "结束.\n"
     ]
    }
   ],
   "source": [
    "# 一个个判断包含多个条件的时候,使用and,or连接判断条件\n",
    "n1=20\n",
    "n2=30\n",
    "n3=40\n",
    "guess=int(input(\"请输入一个数字:\"))\n",
    "if guess>n1 and guess<=n2:\n",
    "    print(\"第一档.\")\n",
    "elif guess>n2 and guess<=n3:\n",
    "    print(\"第二档\")\n",
    "elif guess<=n1 or guess>n3:\n",
    "    print(\"太大或太小了.\")\n",
    "print(\"结束.\")"
   ]
  },
  {
   "cell_type": "code",
   "execution_count": 81,
   "metadata": {},
   "outputs": [
    {
     "name": "stdout",
     "output_type": "stream",
     "text": [
      "请猜第一个数字:1\n",
      "请猜第二个数字:2\n",
      "两个数都猜错了\n",
      "结束.\n"
     ]
    }
   ],
   "source": [
    "n1=20\n",
    "n2=30\n",
    "guess1=int(input(\"请猜第一个数字:\"))\n",
    "guess2=int(input(\"请猜第二个数字:\"))\n",
    "if guess1==n1 and guess2!=n2:\n",
    "    print(\"第一个数猜对了.\")\n",
    "    print('第二个数猜错了.')\n",
    "elif guess1==n1 and guess2==n2:\n",
    "    print(\"第一个数猜对了.\")\n",
    "    print('第二个数也猜对了.')\n",
    "elif guess1!=n1 and guess2!=n2:\n",
    "    print(\"两个数都猜错了\")\n",
    "elif guess1!=n1 and guess2==n2:\n",
    "    print(\"第一个数猜错了,但是第二个数猜对了.\")\n",
    "print(\"结束.\")"
   ]
  },
  {
   "cell_type": "code",
   "execution_count": 82,
   "metadata": {},
   "outputs": [
    {
     "name": "stdout",
     "output_type": "stream",
     "text": [
      "请猜第一个数字:20\n",
      "请猜第二个数字:1\n",
      "第一个数猜对了.\n",
      "第二个数猜错了.\n",
      "结束.\n"
     ]
    }
   ],
   "source": [
    "# 上述的 elif改为if,判断多个条件\n",
    "n1=20\n",
    "n2=30\n",
    "guess1=int(input(\"请猜第一个数字:\"))\n",
    "guess2=int(input(\"请猜第二个数字:\"))\n",
    "if guess1==n1:\n",
    "    print(\"第一个数猜对了.\")\n",
    "    if guess2!=n2:\n",
    "        print('第二个数猜错了.')\n",
    "    elif guess2==n2:\n",
    "        print('第二个数也猜对了.')\n",
    "if guess1==n1 and guess2==n2:\n",
    "    print(\"第一个数猜对了.\")\n",
    "    print('第二个数也猜对了.')\n",
    "if guess1!=n1 and guess2!=n2:\n",
    "    print(\"两个数都猜错了\")\n",
    "if guess1!=n1 and guess2==n2:\n",
    "    print(\"第一个数猜错了,但是第二个数猜对了.\")\n",
    "print(\"结束.\")"
   ]
  },
  {
   "cell_type": "markdown",
   "metadata": {},
   "source": [
    "# 三目表达式"
   ]
  },
  {
   "cell_type": "code",
   "execution_count": 87,
   "metadata": {},
   "outputs": [
    {
     "name": "stdout",
     "output_type": "stream",
     "text": [
      "输入第一个数3\n",
      "输入第二个数4\n",
      "较大的数是\n",
      "4\n"
     ]
    }
   ],
   "source": [
    "n1,n2=int(input('输入第一个数')),int(input('输入第二个数'))\n",
    "print(\"较大的数是\")\n",
    "print(n1 if n1>n2 else n2)#使用三目表达式,输出较大的数"
   ]
  },
  {
   "cell_type": "code",
   "execution_count": 91,
   "metadata": {},
   "outputs": [
    {
     "name": "stdout",
     "output_type": "stream",
     "text": [
      "输入第一个数4\n",
      "输入第二个数3\n",
      "输入第三个数2\n",
      "最大的数是\n",
      "4\n"
     ]
    }
   ],
   "source": [
    "n1,n2,n3=int(input('输入第一个数')),int(input('输入第二个数')),int(input('输入第三个数'))\n",
    "print(\"最大的数是\")\n",
    "print(n1 if n1>n2 and n1>n3 else max(n2,n3))# 三目表达式复合and运算符,从三个数里选出最大的"
   ]
  },
  {
   "cell_type": "code",
   "execution_count": 92,
   "metadata": {
    "scrolled": true
   },
   "outputs": [
    {
     "name": "stdout",
     "output_type": "stream",
     "text": [
      "输入第一个数25\n",
      "输入第二个数65\n",
      "输入第三个数2\n",
      "2\n"
     ]
    }
   ],
   "source": [
    "# 嵌套使用三目表达式\n",
    "a,b,c=n1,n2,n3=int(input('输入第一个数')),int(input('输入第二个数')),int(input('输入第三个数'))\n",
    "min_num = a if a<b and a<c else (b if b<a and b<c else c)\n",
    "print(min_num)"
   ]
  },
  {
   "cell_type": "code",
   "execution_count": null,
   "metadata": {},
   "outputs": [],
   "source": []
  },
  {
   "cell_type": "markdown",
   "metadata": {},
   "source": [
    "# 循环语句\n",
    "* Python的循环有两种，一种是for...in循环，依次把list或tuple中的每个元素迭代出来.\n",
    "* 第二种循环是while循环，只要条件满足，就不断循环，条件不满足时退出循环。"
   ]
  },
  {
   "cell_type": "markdown",
   "metadata": {},
   "source": [
    "## for循环"
   ]
  },
  {
   "cell_type": "code",
   "execution_count": 93,
   "metadata": {},
   "outputs": [
    {
     "name": "stdout",
     "output_type": "stream",
     "text": [
      "tom\n",
      "jerry\n",
      "cat\n",
      "dog\n",
      "monkey\n"
     ]
    }
   ],
   "source": [
    "# 先定义一个list\n",
    "list1=['tom','jerry','cat','dog','monkey']\n",
    "for x in list1:\n",
    "    print(x)"
   ]
  },
  {
   "cell_type": "code",
   "execution_count": 94,
   "metadata": {},
   "outputs": [
    {
     "name": "stdout",
     "output_type": "stream",
     "text": [
      "0 tom\n",
      "1 jerry\n",
      "2 cat\n",
      "3 dog\n",
      "4 monkey\n"
     ]
    }
   ],
   "source": [
    "# 使用enumerate,可以增加一个整数索引,在很多时候是个很有用的技巧\n",
    "for i,x in enumerate(list1):\n",
    "    print(i,x)"
   ]
  },
  {
   "cell_type": "markdown",
   "metadata": {},
   "source": [
    "* for 循环可以遍历整个列表,这使得可以对列表的所有元素做一些处理,如果结合if判断语句,还可以根据不同元素做不同的处理."
   ]
  },
  {
   "cell_type": "code",
   "execution_count": 115,
   "metadata": {},
   "outputs": [
    {
     "name": "stdout",
     "output_type": "stream",
     "text": [
      "第0个元素,8是偶数\n",
      "第1个元素,8是偶数\n",
      "第2个元素,34是偶数\n",
      "第3个元素,45是奇数\n",
      "第4个元素,32是偶数\n",
      "第5个元素,56是偶数\n",
      "第6个元素,7是奇数\n",
      "第7个元素,8是偶数\n",
      "第8个元素,9是奇数\n",
      "第9个元素,23是奇数\n"
     ]
    }
   ],
   "source": [
    "nums=[8,8,34,45,32,56,7,8,9,23]\n",
    "for i,j in enumerate(nums):\n",
    "    if j%2==1:\n",
    "        print(\"第{}个元素,{}是奇数\".format(i,j))\n",
    "    else:\n",
    "        print(\"第{}个元素,{}是偶数\".format(i,j))"
   ]
  },
  {
   "cell_type": "markdown",
   "metadata": {},
   "source": [
    "* 对于字典,同样可以用for循环进行遍历,而且由于字典是键值对,进行遍历时更加方便."
   ]
  },
  {
   "cell_type": "code",
   "execution_count": 125,
   "metadata": {},
   "outputs": [
    {
     "name": "stdout",
     "output_type": "stream",
     "text": [
      "name 张三\n",
      "age 23\n",
      "gender male\n"
     ]
    }
   ],
   "source": [
    "p1={'name':'张三','age':'23','gender':'male'}\n",
    "for key,value in p1.items():\n",
    "    print(key,value)"
   ]
  },
  {
   "cell_type": "code",
   "execution_count": 133,
   "metadata": {},
   "outputs": [
    {
     "name": "stdout",
     "output_type": "stream",
     "text": [
      "name\n",
      "age\n",
      "gender\n"
     ]
    }
   ],
   "source": [
    "# 遍历字典中的所有键\n",
    "for key in p1.keys():\n",
    "    print(key)"
   ]
  },
  {
   "cell_type": "code",
   "execution_count": 134,
   "metadata": {},
   "outputs": [
    {
     "name": "stdout",
     "output_type": "stream",
     "text": [
      "张三\n",
      "23\n",
      "male\n"
     ]
    }
   ],
   "source": [
    "# 遍历字典中的所有值\n",
    "for value in p1.values():\n",
    "    print(value)"
   ]
  },
  {
   "cell_type": "code",
   "execution_count": 128,
   "metadata": {},
   "outputs": [
    {
     "name": "stdout",
     "output_type": "stream",
     "text": [
      "1t\n",
      "1h\n",
      "1i\n",
      "1s\n",
      "1 \n",
      "1i\n",
      "1s\n",
      "1 \n",
      "1a\n",
      "1 \n",
      "1s\n",
      "1t\n",
      "1r\n",
      "1i\n",
      "1n\n",
      "1g\n"
     ]
    }
   ],
   "source": [
    "# 字符串类型也可以被遍历\n",
    "for i in str(\"this is a string\"):\n",
    "    print('1'+i)"
   ]
  },
  {
   "cell_type": "markdown",
   "metadata": {},
   "source": [
    "* 但并不是所有的数据类型都可以被遍历."
   ]
  },
  {
   "cell_type": "code",
   "execution_count": 139,
   "metadata": {},
   "outputs": [
    {
     "name": "stdout",
     "output_type": "stream",
     "text": [
      "{0: 1, 1: 2, 2: 5, 3: 10, 4: 17, 5: 26, 6: 37, 7: 50, 8: 65, 9: 82}\n",
      "[1, 2, 5, 10, 17, 26, 37, 50, 65, 82]\n"
     ]
    }
   ],
   "source": [
    "# 使用 for 循环为字典或列表添加元素\n",
    "dict1={}\n",
    "list1=[]\n",
    "for i in range(10):\n",
    "    dict1[i]=i**2+1\n",
    "    list1.append(i**2+1)\n",
    "print(dict1)\n",
    "print(list1)"
   ]
  },
  {
   "cell_type": "markdown",
   "metadata": {},
   "source": [
    "## while循环\n",
    "* for 循环用于针对集合中的每个元素都一个代码块，而 while 循环不断地运行，直到指定的条件不满足为止。"
   ]
  },
  {
   "cell_type": "code",
   "execution_count": 141,
   "metadata": {},
   "outputs": [
    {
     "name": "stdout",
     "output_type": "stream",
     "text": [
      "1\n",
      "2\n",
      "3\n",
      "4\n"
     ]
    }
   ],
   "source": [
    "n=1\n",
    "while n<5:\n",
    "    print(n)\n",
    "    n=n+1\n",
    "#  while 循环一定要注意终止条件,避免进入死循环"
   ]
  },
  {
   "cell_type": "code",
   "execution_count": 142,
   "metadata": {
    "scrolled": true
   },
   "outputs": [
    {
     "name": "stdout",
     "output_type": "stream",
     "text": [
      "\n",
      "Tell me something, and I will repeat it back to you:\n",
      "Enter 'quit' to end the program. 1343\n",
      "1343\n",
      "\n",
      "Tell me something, and I will repeat it back to you:\n",
      "Enter 'quit' to end the program. 125\n",
      "125\n",
      "\n",
      "Tell me something, and I will repeat it back to you:\n",
      "Enter 'quit' to end the program. quit\n"
     ]
    }
   ],
   "source": [
    "prompt = \"\\nTell me something, and I will repeat it back to you:\"\n",
    "prompt += \"\\nEnter 'quit' to end the program. \"\n",
    "active = True\n",
    "while active:\n",
    "    message = input(prompt)\n",
    "    if message == 'quit':\n",
    "        active = False\n",
    "    else:print(message)"
   ]
  },
  {
   "cell_type": "markdown",
   "metadata": {},
   "source": [
    "### 使用 break 退出循环\n",
    "* 要立即退出 while 循环，不再运行循环中余下的代码，也不管条件测试的结果如何，可使用 break 语句。 break 语句用于控制程序流程，可使用它来控制哪些代码行将执行，哪些代码行不执行，从而让程序按你的要求执行你要执行的代码。"
   ]
  },
  {
   "cell_type": "code",
   "execution_count": 143,
   "metadata": {},
   "outputs": [
    {
     "name": "stdout",
     "output_type": "stream",
     "text": [
      "\n",
      "Please enter the name of a city you have visited:\n",
      "(Enter 'quit' when you are finished.) 1\n",
      "I'd love to go to 1!\n",
      "\n",
      "Please enter the name of a city you have visited:\n",
      "(Enter 'quit' when you are finished.) quit\n"
     ]
    }
   ],
   "source": [
    "prompt = \"\\nPlease enter the name of a city you have visited:\"\n",
    "prompt += \"\\n(Enter 'quit' when you are finished.) \"\n",
    "while True:\n",
    "    city = input(prompt)\n",
    "    if city == 'quit':\n",
    "        break\n",
    "    else:\n",
    "        print(\"I'd love to go to \" + city.title() + \"!\")"
   ]
  },
  {
   "cell_type": "code",
   "execution_count": null,
   "metadata": {},
   "outputs": [],
   "source": []
  },
  {
   "cell_type": "markdown",
   "metadata": {},
   "source": [
    "### 在循环中使用 continue\n",
    "* 要返回到循环开头，并根据条件测试结果决定是否继续执行循环，可使用 continue 语句，它不像 break 语句那样不再执行余下的代码并退出整个循环。"
   ]
  },
  {
   "cell_type": "code",
   "execution_count": 144,
   "metadata": {},
   "outputs": [
    {
     "name": "stdout",
     "output_type": "stream",
     "text": [
      "1\n",
      "3\n",
      "5\n",
      "7\n",
      "9\n"
     ]
    }
   ],
   "source": [
    "current_number = 0\n",
    "while current_number < 10:\n",
    "    current_number += 1\n",
    "    if current_number % 2 == 0:\n",
    "        continue\n",
    "    print(current_number)"
   ]
  },
  {
   "cell_type": "code",
   "execution_count": 154,
   "metadata": {},
   "outputs": [
    {
     "name": "stdout",
     "output_type": "stream",
     "text": [
      "请输入一个数字:50\n",
      "太小了.\n",
      "请输入一个数字:75\n",
      "太小了.\n",
      "请输入一个数字:85\n",
      "太小了.\n",
      "请输入一个数字:90\n",
      "太小了.\n",
      "请输入一个数字:95\n",
      "太大了.\n",
      "请输入一个数字:93\n",
      "恭喜你,你猜对了!\n",
      "游戏结束!\n"
     ]
    }
   ],
   "source": [
    "# 使用while修改猜数字游戏\n",
    "# 并在循环中使用continue\n",
    "import numpy as np\n",
    "number=np.random.randint(100)\n",
    "guess=int(input('请输入一个数字:'))\n",
    "while guess!=number:\n",
    "    if guess>number:\n",
    "        print('太大了.')\n",
    "        guess=int(input('请输入一个数字:'))\n",
    "        continue\n",
    "    elif guess<number:\n",
    "        print('太小了.')\n",
    "        guess=int(input('请输入一个数字:'))\n",
    "        continue\n",
    "print('恭喜你,你猜对了!')\n",
    "print('游戏结束!')"
   ]
  },
  {
   "cell_type": "code",
   "execution_count": null,
   "metadata": {},
   "outputs": [],
   "source": []
  }
 ],
 "metadata": {
  "kernelspec": {
   "display_name": "Python 3",
   "language": "python",
   "name": "python3"
  },
  "language_info": {
   "codemirror_mode": {
    "name": "ipython",
    "version": 3
   },
   "file_extension": ".py",
   "mimetype": "text/x-python",
   "name": "python",
   "nbconvert_exporter": "python",
   "pygments_lexer": "ipython3",
   "version": "3.7.0"
  }
 },
 "nbformat": 4,
 "nbformat_minor": 2
}
